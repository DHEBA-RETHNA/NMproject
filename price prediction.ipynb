{
 "cells": [
  {
   "cell_type": "code",
   "execution_count": null,
   "id": "08c34e3e",
   "metadata": {},
   "outputs": [],
   "source": [
    "import pandas as pd\n",
    "df = pd.read_csv('combined_stock_data.csv')\n",
    "df.columns = df.columns.str.strip()\n",
    "df.head()"
   ]
  },
  {
   "cell_type": "code",
   "execution_count": null,
   "id": "d6b0d8c3",
   "metadata": {},
   "outputs": [],
   "source": [
    "df.columns"
   ]
  },
  {
   "cell_type": "code",
   "execution_count": null,
   "id": "92e608cc",
   "metadata": {},
   "outputs": [],
   "source": [
    "df.shape"
   ]
  },
  {
   "cell_type": "code",
   "execution_count": null,
   "id": "38332822",
   "metadata": {},
   "outputs": [],
   "source": [
    "df.size"
   ]
  },
  {
   "cell_type": "code",
   "execution_count": null,
   "id": "d8704662",
   "metadata": {},
   "outputs": [],
   "source": [
    "df.isnull().sum()"
   ]
  },
  {
   "cell_type": "code",
   "execution_count": null,
   "id": "3720eeaf",
   "metadata": {},
   "outputs": [],
   "source": [
    "import numpy as np\n",
    "from sklearn.preprocessing import MinMaxScaler\n",
    "\n",
    "cols_to_convert = ['OPEN', 'HIGH', 'LOW', 'PREV. CLOSE', 'ltp', 'close', 'vwap',\n",
    "                   '52W H', '52W L', 'VOLUME', 'VALUE']\n",
    "for col in cols_to_convert:\n",
    "    df[col] = df[col].astype(str).str.replace(',', '').astype(float)\n",
    "df.dropna(inplace=True)"
   ]
  },
  {
   "cell_type": "code",
   "execution_count": null,
   "id": "2a2c7890",
   "metadata": {},
   "outputs": [],
   "source": [
    "df['close_lag_1'] = df['close'].shift(1)\n",
    "df['close_lag_2'] = df['close'].shift(2)\n",
    "\n",
    "df['SMA_5'] = df['close'].rolling(window=5).mean()\n",
    "df['SMA_10'] = df['close'].rolling(window=10).mean()\n",
    "\n",
    "df['volatility_5'] = df['close'].rolling(window=5).std()\n",
    "df['daily_return'] = df['close'].pct_change()\n",
    "\n",
    "df.dropna(inplace=True)\n"
   ]
  },
  {
   "cell_type": "code",
   "execution_count": null,
   "id": "d127c0b8",
   "metadata": {},
   "outputs": [],
   "source": [
    "features = ['OPEN', 'HIGH', 'LOW', 'PREV. CLOSE', 'ltp', 'close', 'vwap',\n",
    "            '52W H', '52W L', 'VOLUME', 'VALUE', 'close_lag_1', 'close_lag_2',\n",
    "            'SMA_5', 'SMA_10', 'volatility_5', 'daily_return']\n",
    "\n",
    "scaler = MinMaxScaler()\n",
    "df[features] = scaler.fit_transform(df[features])\n"
   ]
  },
  {
   "cell_type": "code",
   "execution_count": null,
   "id": "6225c0ae",
   "metadata": {},
   "outputs": [],
   "source": [
    "X = df[features].drop(columns=['close'])\n",
    "y = df['close']"
   ]
  },
  {
   "cell_type": "code",
   "execution_count": null,
   "id": "baae6212",
   "metadata": {},
   "outputs": [],
   "source": [
    "import matplotlib.pyplot as plt\n",
    "from sklearn.preprocessing import MinMaxScaler\n",
    "from keras.models import Sequential\n",
    "from keras.layers import Dense, LSTM, Dropout\n",
    "from sklearn.metrics import mean_squared_error\n",
    "import math\n",
    "\n",
    "if 'Date' in df.columns:\n",
    "    df['Date'] = pd.to_datetime(df['Date'])\n",
    "    df = df.sort_values('Date')\n",
    "\n",
    "data = df[['close']].values\n",
    "scaler = MinMaxScaler(feature_range=(0, 1))\n",
    "scaled_data = scaler.fit_transform(data)\n",
    "\n",
    "def create_dataset(data, time_step=60):\n",
    "    X, y = [], []\n",
    "    for i in range(time_step, len(data)):\n",
    "        X.append(data[i - time_step:i, 0])\n",
    "        y.append(data[i, 0])\n",
    "    return np.array(X), np.array(y)\n",
    "\n",
    "time_step = 60\n",
    "X, y = create_dataset(scaled_data, time_step)\n",
    "X = np.reshape(X, (X.shape[0], X.shape[1], 1))\n",
    "\n",
    "split = int(len(X) * 0.8)\n",
    "X_train, X_test = X[:split], X[split:]\n",
    "y_train, y_test = y[:split], y[split:]\n",
    "model = Sequential([\n",
    "    LSTM(50, return_sequences=True, input_shape=(time_step, 1)),\n",
    "    Dropout(0.2),\n",
    "    LSTM(50, return_sequences=False),\n",
    "    Dropout(0.2),\n",
    "    Dense(25),\n",
    "    Dense(1)\n",
    "])\n",
    "model.compile(optimizer='adam', loss='mean_squared_error')\n",
    "model.fit(X_train, y_train, batch_size=32, epochs=10, validation_data=(X_test, y_test))\n",
    "predictions = model.predict(X_test)\n",
    "predictions = scaler.inverse_transform(predictions)\n",
    "actual = scaler.inverse_transform(y_test.reshape(-1, 1))\n",
    "\n",
    "from sklearn.metrics import mean_absolute_error, mean_squared_error, r2_score\n",
    "\n",
    "mae = mean_absolute_error(actual, predictions)\n",
    "mse = mean_squared_error(actual, predictions)\n",
    "rmse = math.sqrt(mse)\n",
    "r2 = r2_score(actual, predictions)\n",
    "print(f\"Mean Absolute Error (MAE): {mae}\")\n",
    "print(f\"Mean Squared Error (MSE): {mse}\")\n",
    "print(f\"Root Mean Squared Error (RMSE): {rmse}\")\n",
    "print(f\"R² Score: {r2}\")\n",
    "rmse = math.sqrt(mean_squared_error(actual, predictions))\n",
    "print(\"Root Mean Squared Error (RMSE):\", rmse)\n",
    "\n",
    "plt.figure(figsize=(14, 6))\n",
    "plt.plot(actual, label='Actual Price')\n",
    "plt.plot(predictions, label='Predicted Price')\n",
    "plt.title('Stock Price Prediction')\n",
    "plt.xlabel('Time')\n",
    "plt.ylabel('Stock Price')\n",
    "plt.legend()\n",
    "plt.show()\n",
    "\n",
    "def predict_next_price(manual_input):\n",
    "    if len(manual_input) != 60:\n",
    "        raise ValueError(\"Input must contain exactly 60 closing prices.\")\n",
    "\n",
    "    manual_input = np.array(manual_input).reshape(-1, 1)\n",
    "    scaled_input = scaler.transform(manual_input)\n",
    "    scaled_input = np.reshape(scaled_input, (1, 60, 1))\n",
    "    pred_scaled = model.predict(scaled_input)\n",
    "    pred_price = scaler.inverse_transform(pred_scaled)\n",
    "\n",
    "    return float(pred_price[0][0])\n",
    "\n",
    "last_60 = df['close'].values[-60:]\n",
    "predicted = predict_next_price(last_60)\n",
    "print(\"Predicted next stock price from last 60 closing prices:\", predicted)\n"
   ]
  },
  {
   "cell_type": "code",
   "execution_count": null,
   "id": "f49a531f",
   "metadata": {},
   "outputs": [],
   "source": [
    "your_input = [\n",
    "    101.5, 102.1, 100.7, 99.4, 98.3, 100.2, 101.0, 101.3, 102.4, 103.0,\n",
    "    103.5, 104.2, 103.9, 102.7, 101.9, 100.5, 99.8, 99.0, 98.6, 98.3,\n",
    "    98.7, 99.2, 99.9, 100.3, 100.8, 101.5, 102.0, 102.6, 103.1, 103.9,\n",
    "    104.6, 105.2, 104.8, 104.4, 104.0, 103.5, 103.1, 102.8, 102.3, 101.9,\n",
    "    101.6, 101.2, 100.9, 100.5, 100.2, 99.8, 99.5, 99.3, 99.0, 98.8,\n",
    "    98.5, 98.3, 98.1, 98.0, 97.9, 97.8, 97.7, 97.6, 97.5, 97.4\n",
    "]\n",
    "predicted = predict_next_price(your_input)\n",
    "print(\"Predicted next price:\", predicted)\n"
   ]
  },
  {
   "cell_type": "code",
   "execution_count": null,
   "id": "60afd761",
   "metadata": {},
   "outputs": [],
   "source": []
  }
 ],
 "metadata": {
  "kernelspec": {
   "display_name": "myenv",
   "language": "python",
   "name": "myenv"
  },
  "language_info": {
   "codemirror_mode": {
    "name": "ipython",
    "version": 3
   },
   "file_extension": ".py",
   "mimetype": "text/x-python",
   "name": "python",
   "nbconvert_exporter": "python",
   "pygments_lexer": "ipython3",
   "version": "3.12.4"
  }
 },
 "nbformat": 4,
 "nbformat_minor": 5
}
